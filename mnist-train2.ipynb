{
 "cells": [
  {
   "cell_type": "code",
   "execution_count": 4,
   "id": "c55e4934-42c6-4380-a382-0c3cbcc0d83a",
   "metadata": {
    "executionInfo": {
     "elapsed": 6,
     "status": "ok",
     "timestamp": 1632191065545,
     "user": {
      "displayName": "Guilherme Beneti Martins",
      "photoUrl": "https://lh3.googleusercontent.com/a/default-user=s64",
      "userId": "01437916310506031441"
     },
     "user_tz": 180
    },
    "id": "c55e4934-42c6-4380-a382-0c3cbcc0d83a"
   },
   "outputs": [],
   "source": [
    "import time\n",
    "import copy\n",
    "from pathlib import Path"
   ]
  },
  {
   "cell_type": "code",
   "execution_count": 5,
   "id": "c16835a8-a93f-4585-a727-9afea9c606ed",
   "metadata": {
    "executionInfo": {
     "elapsed": 4309,
     "status": "ok",
     "timestamp": 1632191069848,
     "user": {
      "displayName": "Guilherme Beneti Martins",
      "photoUrl": "https://lh3.googleusercontent.com/a/default-user=s64",
      "userId": "01437916310506031441"
     },
     "user_tz": 180
    },
    "id": "c16835a8-a93f-4585-a727-9afea9c606ed"
   },
   "outputs": [],
   "source": [
    "import numpy as np\n",
    "import torch\n",
    "from torchvision import datasets, transforms, models\n",
    "import torch.nn as nn\n",
    "import torch.nn.functional as F\n",
    "import torch.optim as optim\n",
    "\n",
    "from matplotlib import pyplot as plt\n",
    "from PIL import Image"
   ]
  },
  {
   "cell_type": "code",
   "execution_count": 6,
   "id": "4674c1e5-3767-4c00-afce-b3c99da563bd",
   "metadata": {
    "colab": {
     "base_uri": "https://localhost:8080/"
    },
    "executionInfo": {
     "elapsed": 12,
     "status": "ok",
     "timestamp": 1632191069853,
     "user": {
      "displayName": "Guilherme Beneti Martins",
      "photoUrl": "https://lh3.googleusercontent.com/a/default-user=s64",
      "userId": "01437916310506031441"
     },
     "user_tz": 180
    },
    "id": "4674c1e5-3767-4c00-afce-b3c99da563bd",
    "outputId": "c71b4d15-cec7-43f0-9a38-6e7b03e1be81"
   },
   "outputs": [
    {
     "name": "stdout",
     "output_type": "stream",
     "text": [
      "Using device: cpu\n"
     ]
    }
   ],
   "source": [
    "device = torch.device(\"cuda:0\" if torch.cuda.is_available() else \"cpu\")\n",
    "print(f'Using device: {device}')\n",
    "torch.manual_seed(7)\n",
    "\n",
    "batch_size = 256\n",
    "epochs = 20\n",
    "learning_rate = 1e-3\n",
    "reg = 1e-7\n",
    "step_size = 10\n",
    "gamma = 0.5"
   ]
  },
  {
   "cell_type": "code",
   "execution_count": 13,
   "id": "48c47f01-e785-4a7e-993b-00ee64cff95f",
   "metadata": {
    "executionInfo": {
     "elapsed": 3,
     "status": "ok",
     "timestamp": 1632191072976,
     "user": {
      "displayName": "Guilherme Beneti Martins",
      "photoUrl": "https://lh3.googleusercontent.com/a/default-user=s64",
      "userId": "01437916310506031441"
     },
     "user_tz": 180
    },
    "id": "48c47f01-e785-4a7e-993b-00ee64cff95f"
   },
   "outputs": [],
   "source": [
    "transform = transforms.Compose([# Without augmentation for the moment\n",
    "                transforms.Resize(256), # Resizing because ResNet uses 256x256 images\n",
    "                transforms.ToTensor(),\n",
    "                transforms.Normalize((0.1307,), (0.3081,)),])\n",
    "\n",
    "def collate_mnist(batch): #https://discuss.pytorch.org/t/how-to-use-one-class-of-number-in-mnist/26276/8\n",
    "    modified_batch = []\n",
    "    for item in batch:\n",
    "        image, label = item\n",
    "        if label == 0:\n",
    "            label = 0\n",
    "        \n",
    "        if label == 5:\n",
    "            label = 1\n",
    "        \n",
    "        if not(label == 5 or label==0):\n",
    "            label = 2\n",
    "        \n",
    "        item = image, label\n",
    "        modified_batch.append(item)\n",
    "    \n",
    "    return torch.utils.data.dataloader.default_collate(modified_batch)    "
   ]
  },
  {
   "cell_type": "markdown",
   "id": "1173a65c-28f3-4998-b631-cdad1de850ae",
   "metadata": {
    "id": "1173a65c-28f3-4998-b631-cdad1de850ae"
   },
   "source": [
    "## Creating Datasets"
   ]
  },
  {
   "cell_type": "code",
   "execution_count": 14,
   "id": "dd61b163-e775-46b6-922a-25117c2aaeec",
   "metadata": {
    "colab": {
     "base_uri": "https://localhost:8080/"
    },
    "executionInfo": {
     "elapsed": 375,
     "status": "ok",
     "timestamp": 1632191073633,
     "user": {
      "displayName": "Guilherme Beneti Martins",
      "photoUrl": "https://lh3.googleusercontent.com/a/default-user=s64",
      "userId": "01437916310506031441"
     },
     "user_tz": 180
    },
    "id": "dd61b163-e775-46b6-922a-25117c2aaeec",
    "outputId": "68cf2575-1ce7-488e-852c-976764d4b676"
   },
   "outputs": [
    {
     "name": "stdout",
     "output_type": "stream",
     "text": [
      "Trainset size: 60000\n",
      "Testset size: 10000\n"
     ]
    }
   ],
   "source": [
    "mnist_path = Path('./mnist')\n",
    "\n",
    "if not mnist_path.exists():\n",
    "    mnist_path.mkdir()\n",
    "\n",
    "mnist_trainset = datasets.MNIST(root=str(mnist_path.resolve()), train=True, download=True, transform=transform)\n",
    "mnist_testset = datasets.MNIST(root=str(mnist_path.resolve()), train=False, download=True, transform=transform)\n",
    "\n",
    "print(f'Trainset size: {len(mnist_trainset)}')\n",
    "print(f'Testset size: {len(mnist_testset)}')"
   ]
  },
  {
   "cell_type": "code",
   "execution_count": 15,
   "id": "d1828930-b776-4d41-9fd9-02152c88401f",
   "metadata": {
    "colab": {
     "base_uri": "https://localhost:8080/"
    },
    "executionInfo": {
     "elapsed": 5,
     "status": "ok",
     "timestamp": 1632191073634,
     "user": {
      "displayName": "Guilherme Beneti Martins",
      "photoUrl": "https://lh3.googleusercontent.com/a/default-user=s64",
      "userId": "01437916310506031441"
     },
     "user_tz": 180
    },
    "id": "d1828930-b776-4d41-9fd9-02152c88401f",
    "outputId": "e8c74ccc-ea21-404b-fcff-c5d05eec95fc"
   },
   "outputs": [
    {
     "data": {
      "text/plain": [
       "torch.Size([1, 256, 256])"
      ]
     },
     "execution_count": 15,
     "metadata": {},
     "output_type": "execute_result"
    }
   ],
   "source": [
    "iterator = iter(mnist_trainset)\n",
    "im,_ = next(iterator)\n",
    "im.shape"
   ]
  },
  {
   "cell_type": "markdown",
   "id": "605fa3e6-3129-4839-b0d9-8c0ce4d8622f",
   "metadata": {
    "id": "605fa3e6-3129-4839-b0d9-8c0ce4d8622f"
   },
   "source": [
    "## Defining the data Transform"
   ]
  },
  {
   "cell_type": "code",
   "execution_count": 51,
   "id": "42a94556-691a-4c2a-8402-6cce21224150",
   "metadata": {
    "executionInfo": {
     "elapsed": 245,
     "status": "ok",
     "timestamp": 1632192415629,
     "user": {
      "displayName": "Guilherme Beneti Martins",
      "photoUrl": "https://lh3.googleusercontent.com/a/default-user=s64",
      "userId": "01437916310506031441"
     },
     "user_tz": 180
    },
    "id": "42a94556-691a-4c2a-8402-6cce21224150"
   },
   "outputs": [],
   "source": [
    "trainloader = torch.utils.data.DataLoader(mnist_trainset, batch_size, shuffle=True, collate_fn=collate_mnist)\n",
    "testloader = torch.utils.data.DataLoader(mnist_testset, batch_size, shuffle=True, collate_fn=collate_mnist)\n",
    "\n",
    "class_names = ['Class 0', 'Class 5', 'Class unknown']\n",
    "dataloaders = {'train': trainloader, 'val': testloader}\n",
    "dataset_sizes = {'train':len(mnist_trainset), 'val':len(mnist_testset)}"
   ]
  },
  {
   "cell_type": "code",
   "execution_count": 17,
   "id": "ad3f2d76-1526-4657-a31f-4192d1b94cb9",
   "metadata": {
    "executionInfo": {
     "elapsed": 4,
     "status": "ok",
     "timestamp": 1632191074661,
     "user": {
      "displayName": "Guilherme Beneti Martins",
      "photoUrl": "https://lh3.googleusercontent.com/a/default-user=s64",
      "userId": "01437916310506031441"
     },
     "user_tz": 180
    },
    "id": "ad3f2d76-1526-4657-a31f-4192d1b94cb9"
   },
   "outputs": [],
   "source": [
    "iterator = iter(testloader)"
   ]
  },
  {
   "cell_type": "code",
   "execution_count": 18,
   "id": "9fcf0c7e-7193-4418-95a8-bb49c511a5f4",
   "metadata": {
    "executionInfo": {
     "elapsed": 298,
     "status": "ok",
     "timestamp": 1632191075377,
     "user": {
      "displayName": "Guilherme Beneti Martins",
      "photoUrl": "https://lh3.googleusercontent.com/a/default-user=s64",
      "userId": "01437916310506031441"
     },
     "user_tz": 180
    },
    "id": "9fcf0c7e-7193-4418-95a8-bb49c511a5f4"
   },
   "outputs": [],
   "source": [
    "im, label = next(iterator)"
   ]
  },
  {
   "cell_type": "code",
   "execution_count": 19,
   "id": "f175d6f3-c7ac-479e-b203-eeb8ea10322b",
   "metadata": {
    "colab": {
     "base_uri": "https://localhost:8080/",
     "height": 287
    },
    "executionInfo": {
     "elapsed": 9,
     "status": "ok",
     "timestamp": 1632191075856,
     "user": {
      "displayName": "Guilherme Beneti Martins",
      "photoUrl": "https://lh3.googleusercontent.com/a/default-user=s64",
      "userId": "01437916310506031441"
     },
     "user_tz": 180
    },
    "id": "f175d6f3-c7ac-479e-b203-eeb8ea10322b",
    "outputId": "26cfd1e8-68af-4def-fd58-109c8608de36"
   },
   "outputs": [
    {
     "name": "stdout",
     "output_type": "stream",
     "text": [
      "tensor(2)\n"
     ]
    },
    {
     "data": {
      "image/png": "[encoded data removed]",
      "text/plain": [
       "<Figure size 432x288 with 1 Axes>"
      ]
     },
     "metadata": {
      "needs_background": "light"
     },
     "output_type": "display_data"
    }
   ],
   "source": [
    "plt.imshow(im.cpu().detach()[10][0].numpy(), cmap='gray', interpolation='none')\n",
    "print(label[10])"
   ]
  },
  {
   "cell_type": "code",
   "execution_count": 20,
   "id": "d3232b31-5204-4546-8094-9203e3b29d90",
   "metadata": {
    "colab": {
     "base_uri": "https://localhost:8080/"
    },
    "executionInfo": {
     "elapsed": 5,
     "status": "ok",
     "timestamp": 1632191077076,
     "user": {
      "displayName": "Guilherme Beneti Martins",
      "photoUrl": "https://lh3.googleusercontent.com/a/default-user=s64",
      "userId": "01437916310506031441"
     },
     "user_tz": 180
    },
    "id": "d3232b31-5204-4546-8094-9203e3b29d90",
    "outputId": "4f612e34-2827-4a29-862b-995e9f353670"
   },
   "outputs": [
    {
     "data": {
      "text/plain": [
       "torch.Size([256, 1, 256, 256])"
      ]
     },
     "execution_count": 20,
     "metadata": {},
     "output_type": "execute_result"
    }
   ],
   "source": [
    "im.shape"
   ]
  },
  {
   "cell_type": "markdown",
   "id": "a1c1f31c-42a9-4225-ba70-08e0699f5614",
   "metadata": {
    "id": "a1c1f31c-42a9-4225-ba70-08e0699f5614"
   },
   "source": [
    "# Model"
   ]
  },
  {
   "cell_type": "code",
   "execution_count": 56,
   "id": "afb51f44-e661-46f2-b07e-02bfba881c2a",
   "metadata": {
    "executionInfo": {
     "elapsed": 250,
     "status": "ok",
     "timestamp": 1632192616193,
     "user": {
      "displayName": "Guilherme Beneti Martins",
      "photoUrl": "https://lh3.googleusercontent.com/a/default-user=s64",
      "userId": "01437916310506031441"
     },
     "user_tz": 180
    },
    "id": "afb51f44-e661-46f2-b07e-02bfba881c2a"
   },
   "outputs": [],
   "source": [
    "class mnistClassifier(nn.Module):\n",
    "    \n",
    "    def __init__(self, device):\n",
    "        super(mnistClassifier, self).__init__()\n",
    "        self.network = models.resnet18(pretrained=True)\n",
    "\n",
    "        for param in self.network.parameters():\n",
    "            param.requires_grad = False\n",
    "\n",
    "        self.network.conv1 = nn.Conv2d(1, 64, kernel_size=(7, 7), stride=(2, 2), padding=(3, 3), bias=False)\n",
    "        num_ftrs = self.network.fc.in_features\n",
    "        model.fc = nn.Linear(num_ftrs, 3)\n",
    "        self.network = self.network.to(device)\n",
    "\n",
    "    def forward(self, x):\n",
    "        return self.network(x)    "
   ]
  },
  {
   "cell_type": "code",
   "execution_count": 22,
   "id": "b83da09f-7dfc-4ca5-b9b6-c4414a6a6a36",
   "metadata": {
    "executionInfo": {
     "elapsed": 1538,
     "status": "ok",
     "timestamp": 1632191080706,
     "user": {
      "displayName": "Guilherme Beneti Martins",
      "photoUrl": "https://lh3.googleusercontent.com/a/default-user=s64",
      "userId": "01437916310506031441"
     },
     "user_tz": 180
    },
    "id": "b83da09f-7dfc-4ca5-b9b6-c4414a6a6a36"
   },
   "outputs": [],
   "source": [
    "\n",
    "model = models.resnet18(pretrained=True, progress=False)\n",
    "\n",
    "for param in model.parameters():\n",
    "            param.requires_grad = False\n",
    "\n",
    "model.conv1 = nn.Conv2d(1, 64, kernel_size=(7, 7), stride=(2, 2), padding=(3, 3), bias=False)\n",
    "        \n",
    "num_ftrs = model.fc.in_features\n",
    "model.fc = nn.Linear(num_ftrs, 3)\n",
    "model = model.to(device)"
   ]
  },
  {
   "cell_type": "code",
   "execution_count": 19,
   "id": "aadcf7b9-90b3-4feb-96c4-39616660393c",
   "metadata": {
    "executionInfo": {
     "elapsed": 7,
     "status": "ok",
     "timestamp": 1632174295927,
     "user": {
      "displayName": "Guilherme Beneti Martins",
      "photoUrl": "https://lh3.googleusercontent.com/a/default-user=s64",
      "userId": "01437916310506031441"
     },
     "user_tz": 180
    },
    "id": "aadcf7b9-90b3-4feb-96c4-39616660393c"
   },
   "outputs": [],
   "source": [
    "criterion = nn.CrossEntropyLoss()\n",
    "#optimizer = optim.SGD(model.parameters(), lr=lr, momentum=0.9)\n",
    "optimizer = optim.Adam(model.parameters(), lr=learning_rate)\n",
    "scheduler = torch.optim.lr_scheduler.StepLR(optimizer, step_size=step_size, gamma=gamma)"
   ]
  },
  {
   "cell_type": "markdown",
   "id": "b37dc465-7e99-4b83-99a4-068038939103",
   "metadata": {
    "id": "b37dc465-7e99-4b83-99a4-068038939103"
   },
   "source": [
    "# Training"
   ]
  },
  {
   "cell_type": "code",
   "execution_count": 41,
   "id": "6f859b5c-171c-4acb-b777-e99ed72dd2ca",
   "metadata": {
    "executionInfo": {
     "elapsed": 219,
     "status": "ok",
     "timestamp": 1632176877524,
     "user": {
      "displayName": "Guilherme Beneti Martins",
      "photoUrl": "https://lh3.googleusercontent.com/a/default-user=s64",
      "userId": "01437916310506031441"
     },
     "user_tz": 180
    },
    "id": "6f859b5c-171c-4acb-b777-e99ed72dd2ca"
   },
   "outputs": [],
   "source": [
    "def checkpoint(root, epoch, model):\n",
    "    \"\"\" Saves the dictionaries of a given pytorch model for \n",
    "        the right epoch\n",
    "        \"\"\"\n",
    "    model_out_path = \"model_epoch_{}.pth\".format(epoch)\n",
    "    model_out_path = root / model_out_path;\n",
    "    torch.save(model.state_dict() , model_out_path);\n",
    "    print(\"Checkpoint saved to {}\".format(model_out_path))\n",
    "\n",
    "def train_model(model, criterion, optimizer, scheduler, dataloaders, dataset_sizes, num_epochs=25):\n",
    "    since = time.time()\n",
    "\n",
    "    best_model_wts = copy.deepcopy(model.state_dict())\n",
    "    best_acc = 0.0\n",
    "\n",
    "    for epoch in range(num_epochs):\n",
    "        print('Epoch {}/{}'.format(epoch, num_epochs - 1))\n",
    "        print('-' * 10)\n",
    "\n",
    "        # Each epoch has a training and validation phase\n",
    "        for phase in ['train', 'val']:\n",
    "            if phase == 'train':\n",
    "                model.train()  # Set model to training mode\n",
    "            else:\n",
    "                model.eval()   # Set model to evaluate mode\n",
    "\n",
    "            running_loss = 0.0\n",
    "            running_corrects = 0\n",
    "\n",
    "            # Iterate over data.\n",
    "            for inputs, labels in dataloaders[phase]:\n",
    "                inputs = inputs.to(device)\n",
    "                labels = labels.to(device)\n",
    "\n",
    "                # zero the parameter gradients\n",
    "                optimizer.zero_grad()\n",
    "\n",
    "                # forward\n",
    "                # track history if only in train\n",
    "                with torch.set_grad_enabled(phase == 'train'):\n",
    "                    outputs = model(inputs)\n",
    "                    _, preds = torch.max(outputs, 1)\n",
    "                    loss = criterion(outputs, labels)\n",
    "\n",
    "                    # backward + optimize only if in training phase\n",
    "                    if phase == 'train':\n",
    "                        loss.backward()\n",
    "                        optimizer.step()\n",
    "\n",
    "                # statistics\n",
    "                running_loss += loss.item() * inputs.size(0)\n",
    "                running_corrects += torch.sum(preds == labels.data)\n",
    "            if phase == 'train':\n",
    "                scheduler.step()\n",
    "\n",
    "            epoch_loss = running_loss / dataset_sizes[phase]\n",
    "            epoch_acc = running_corrects.double() / dataset_sizes[phase]\n",
    "\n",
    "            print('{} Loss: {:.4f} Acc: {:.4f}'.format(\n",
    "                phase, epoch_loss, epoch_acc))\n",
    "\n",
    "            # deep copy the model\n",
    "            if phase == 'val' and epoch_acc > best_acc:\n",
    "                best_acc = epoch_acc\n",
    "                best_model_wts = copy.deepcopy(model.state_dict())\n",
    "        checkpoint(Path(\"./checkpoints/\"), epoch, model)\n",
    "        print()\n",
    "\n",
    "    time_elapsed = time.time() - since\n",
    "    print('Training complete in {:.0f}m {:.0f}s'.format(\n",
    "        time_elapsed // 60, time_elapsed % 60))\n",
    "    print('Best val Acc: {:4f}'.format(best_acc))\n",
    "\n",
    "    # load best model weights\n",
    "    model.load_state_dict(best_model_wts)\n",
    "    return model\n",
    "\n",
    "def load_model(path):\n",
    "  pass\n",
    "  #model.load_state_dict(torch.load('./checkpoints/model_epoch_1.pth', map_location=torch.device(device)))"
   ]
  },
  {
   "cell_type": "code",
   "execution_count": null,
   "id": "36760360-203d-4330-8e59-11a35e497c62",
   "metadata": {
    "colab": {
     "base_uri": "https://localhost:8080/",
     "height": 318
    },
    "executionInfo": {
     "elapsed": 527102,
     "status": "error",
     "timestamp": 1632165272768,
     "user": {
      "displayName": "Guilherme Beneti Martins",
      "photoUrl": "https://lh3.googleusercontent.com/a/default-user=s64",
      "userId": "01437916310506031441"
     },
     "user_tz": 180
    },
    "id": "36760360-203d-4330-8e59-11a35e497c62",
    "outputId": "7ec5e8da-3259-4d54-c2c6-d720d31c24a9"
   },
   "outputs": [],
   "source": [
    "#for epoch in range(epochs):\n",
    "#    running_loss = 0.0\n",
    "#    for i, data in enumerate(trainloader, 0):\n",
    "#        inputs, labels = data\n",
    "#        inputs = inputs.to(device)\n",
    "#        labels = labels.to(device)\n",
    "#        \n",
    "#        optimizer.zero_grad()\n",
    "#         \n",
    "#         outputs = model(inputs)\n",
    "#         loss = criterion(outputs, labels)\n",
    "#         loss.backward()\n",
    "#         optimizer.step()\n",
    "        \n",
    "#         running_loss += loss.item()\n",
    "#     print(running_loss)\n",
    "# print('Finished Training')"
   ]
  },
  {
   "cell_type": "code",
   "execution_count": null,
   "id": "39daf7c8-0088-428d-8486-2a80115cbe76",
   "metadata": {
    "colab": {
     "base_uri": "https://localhost:8080/"
    },
    "id": "39daf7c8-0088-428d-8486-2a80115cbe76",
    "outputId": "7f140dd9-9f0c-400d-9b57-c5a05c56ed70"
   },
   "outputs": [
    {
     "name": "stdout",
     "output_type": "stream",
     "text": [
      "Epoch 0/19\n",
      "----------\n",
      "train Loss: 0.0086 Acc: 0.9975\n",
      "val Loss: 0.0107 Acc: 0.9966\n",
      "Checkpoint saved to checkpoints/model_epoch_0.pth\n",
      "\n",
      "Epoch 1/19\n",
      "----------\n",
      "train Loss: 0.0081 Acc: 0.9975\n",
      "val Loss: 0.0130 Acc: 0.9956\n",
      "Checkpoint saved to checkpoints/model_epoch_1.pth\n",
      "\n",
      "Epoch 2/19\n",
      "----------\n",
      "train Loss: 0.0077 Acc: 0.9977\n",
      "val Loss: 0.0110 Acc: 0.9962\n",
      "Checkpoint saved to checkpoints/model_epoch_2.pth\n",
      "\n",
      "Epoch 3/19\n",
      "----------\n",
      "train Loss: 0.0070 Acc: 0.9980\n",
      "val Loss: 0.0118 Acc: 0.9964\n",
      "Checkpoint saved to checkpoints/model_epoch_3.pth\n",
      "\n",
      "Epoch 4/19\n",
      "----------\n",
      "train Loss: 0.0068 Acc: 0.9979\n",
      "val Loss: 0.0114 Acc: 0.9969\n",
      "Checkpoint saved to checkpoints/model_epoch_4.pth\n",
      "\n",
      "Epoch 5/19\n",
      "----------\n",
      "train Loss: 0.0068 Acc: 0.9980\n",
      "val Loss: 0.0089 Acc: 0.9970\n",
      "Checkpoint saved to checkpoints/model_epoch_5.pth\n",
      "\n",
      "Epoch 6/19\n",
      "----------\n",
      "train Loss: 0.0061 Acc: 0.9980\n",
      "val Loss: 0.0109 Acc: 0.9964\n",
      "Checkpoint saved to checkpoints/model_epoch_6.pth\n",
      "\n",
      "Epoch 7/19\n",
      "----------\n",
      "train Loss: 0.0061 Acc: 0.9982\n",
      "val Loss: 0.0102 Acc: 0.9967\n",
      "Checkpoint saved to checkpoints/model_epoch_7.pth\n",
      "\n",
      "Epoch 8/19\n",
      "----------\n",
      "train Loss: 0.0054 Acc: 0.9984\n",
      "val Loss: 0.0097 Acc: 0.9968\n",
      "Checkpoint saved to checkpoints/model_epoch_8.pth\n",
      "\n",
      "Epoch 9/19\n",
      "----------\n",
      "train Loss: 0.0053 Acc: 0.9983\n",
      "val Loss: 0.0093 Acc: 0.9970\n",
      "Checkpoint saved to checkpoints/model_epoch_9.pth\n",
      "\n",
      "Epoch 10/19\n",
      "----------\n",
      "train Loss: 0.0049 Acc: 0.9986\n",
      "val Loss: 0.0092 Acc: 0.9971\n",
      "Checkpoint saved to checkpoints/model_epoch_10.pth\n",
      "\n",
      "Epoch 11/19\n",
      "----------\n",
      "train Loss: 0.0048 Acc: 0.9987\n",
      "val Loss: 0.0095 Acc: 0.9966\n",
      "Checkpoint saved to checkpoints/model_epoch_11.pth\n",
      "\n",
      "Epoch 12/19\n",
      "----------\n",
      "train Loss: 0.0049 Acc: 0.9985\n",
      "val Loss: 0.0088 Acc: 0.9972\n",
      "Checkpoint saved to checkpoints/model_epoch_12.pth\n",
      "\n",
      "Epoch 13/19\n",
      "----------\n",
      "train Loss: 0.0047 Acc: 0.9985\n",
      "val Loss: 0.0097 Acc: 0.9966\n",
      "Checkpoint saved to checkpoints/model_epoch_13.pth\n",
      "\n",
      "Epoch 14/19\n",
      "----------\n",
      "train Loss: 0.0047 Acc: 0.9985\n",
      "val Loss: 0.0098 Acc: 0.9965\n",
      "Checkpoint saved to checkpoints/model_epoch_14.pth\n",
      "\n",
      "Epoch 15/19\n",
      "----------\n",
      "train Loss: 0.0045 Acc: 0.9987\n",
      "val Loss: 0.0107 Acc: 0.9966\n",
      "Checkpoint saved to checkpoints/model_epoch_15.pth\n",
      "\n",
      "Epoch 16/19\n",
      "----------\n"
     ]
    }
   ],
   "source": [
    "train_model(model, criterion, optimizer, scheduler, dataloaders, dataset_sizes, num_epochs=20)"
   ]
  },
  {
   "cell_type": "code",
   "execution_count": 43,
   "id": "yO4pC_1KUbcx",
   "metadata": {
    "executionInfo": {
     "elapsed": 222,
     "status": "ok",
     "timestamp": 1632181813334,
     "user": {
      "displayName": "Guilherme Beneti Martins",
      "photoUrl": "https://lh3.googleusercontent.com/a/default-user=s64",
      "userId": "01437916310506031441"
     },
     "user_tz": 180
    },
    "id": "yO4pC_1KUbcx"
   },
   "outputs": [],
   "source": [
    "def visualize_model(model, dataloaders, class_names, num_images=6):\n",
    "    was_training = model.training\n",
    "    model.eval()\n",
    "    images_so_far = 0\n",
    "    fig = plt.figure()\n",
    "\n",
    "    with torch.no_grad():\n",
    "        for i, (inputs, labels) in enumerate(dataloaders['val']):\n",
    "            inputs = inputs.to(device)\n",
    "            labels = labels.to(device)\n",
    "\n",
    "            outputs = model(inputs)\n",
    "            _, preds = torch.max(outputs, 1)\n",
    "\n",
    "            for j in range(inputs.size()[0]):\n",
    "                images_so_far += 1\n",
    "                ax = plt.subplot(num_images//2, 2, images_so_far)\n",
    "                ax.axis('off')\n",
    "                ax.set_title('predicted: {}'.format(class_names[preds[j]]))\n",
    "                imshow(inputs.cpu().data[j])\n",
    "\n",
    "                if images_so_far == num_images:\n",
    "                    model.train(mode=was_training)\n",
    "                    return model.train(mode=was_training)"
   ]
  },
  {
   "cell_type": "code",
   "execution_count": 23,
   "id": "-Ebm4sFDIyzQ",
   "metadata": {
    "colab": {
     "base_uri": "https://localhost:8080/"
    },
    "executionInfo": {
     "elapsed": 1412,
     "status": "ok",
     "timestamp": 1632191093809,
     "user": {
      "displayName": "Guilherme Beneti Martins",
      "photoUrl": "https://lh3.googleusercontent.com/a/default-user=s64",
      "userId": "01437916310506031441"
     },
     "user_tz": 180
    },
    "id": "-Ebm4sFDIyzQ",
    "outputId": "bb3df9f0-37fd-495d-86bb-560251cd2bd0"
   },
   "outputs": [
    {
     "data": {
      "text/plain": [
       "<All keys matched successfully>"
      ]
     },
     "execution_count": 23,
     "metadata": {},
     "output_type": "execute_result"
    }
   ],
   "source": [
    "model.load_state_dict(torch.load('./checkpoints/model_epoch_1.pth', map_location=torch.device(device)))"
   ]
  },
  {
   "cell_type": "code",
   "execution_count": 24,
   "id": "sq2zT3pSKUd6",
   "metadata": {
    "colab": {
     "base_uri": "https://localhost:8080/"
    },
    "executionInfo": {
     "elapsed": 395,
     "status": "ok",
     "timestamp": 1632191095454,
     "user": {
      "displayName": "Guilherme Beneti Martins",
      "photoUrl": "https://lh3.googleusercontent.com/a/default-user=s64",
      "userId": "01437916310506031441"
     },
     "user_tz": 180
    },
    "id": "sq2zT3pSKUd6",
    "outputId": "d0c624e5-6fb8-4768-97aa-1253cc49d6ef"
   },
   "outputs": [
    {
     "data": {
      "text/plain": [
       "torch.Size([256, 1, 256, 256])"
      ]
     },
     "execution_count": 24,
     "metadata": {},
     "output_type": "execute_result"
    }
   ],
   "source": [
    "im, label = next(iterator)\n",
    "im.shape"
   ]
  },
  {
   "cell_type": "code",
   "execution_count": 25,
   "id": "Q5K8W5cSKccb",
   "metadata": {
    "colab": {
     "base_uri": "https://localhost:8080/"
    },
    "executionInfo": {
     "elapsed": 29696,
     "status": "ok",
     "timestamp": 1632191126228,
     "user": {
      "displayName": "Guilherme Beneti Martins",
      "photoUrl": "https://lh3.googleusercontent.com/a/default-user=s64",
      "userId": "01437916310506031441"
     },
     "user_tz": 180
    },
    "id": "Q5K8W5cSKccb",
    "outputId": "675e101f-0d0b-418a-f3ae-1769f0231971"
   },
   "outputs": [
    {
     "name": "stderr",
     "output_type": "stream",
     "text": [
      "/usr/local/lib/python3.7/dist-packages/torch/nn/functional.py:718: UserWarning: Named tensors and all their associated APIs are an experimental feature and subject to change. Please do not use them for anything important until they are released as stable. (Triggered internally at  /pytorch/c10/core/TensorImpl.h:1156.)\n",
      "  return torch.max_pool2d(input, kernel_size, stride, padding, dilation, ceil_mode)\n"
     ]
    }
   ],
   "source": [
    "result = model(im)"
   ]
  },
  {
   "cell_type": "code",
   "execution_count": 26,
   "id": "K-v83S41KoHL",
   "metadata": {
    "colab": {
     "base_uri": "https://localhost:8080/"
    },
    "executionInfo": {
     "elapsed": 254,
     "status": "ok",
     "timestamp": 1632191137926,
     "user": {
      "displayName": "Guilherme Beneti Martins",
      "photoUrl": "https://lh3.googleusercontent.com/a/default-user=s64",
      "userId": "01437916310506031441"
     },
     "user_tz": 180
    },
    "id": "K-v83S41KoHL",
    "outputId": "f822959c-4ae2-4d20-cedc-ed4e4b6866f1"
   },
   "outputs": [
    {
     "data": {
      "text/plain": [
       "torch.Size([256, 3])"
      ]
     },
     "execution_count": 26,
     "metadata": {},
     "output_type": "execute_result"
    }
   ],
   "source": [
    "result.shape"
   ]
  },
  {
   "cell_type": "code",
   "execution_count": 54,
   "id": "MHFCwYLNLRYC",
   "metadata": {
    "colab": {
     "base_uri": "https://localhost:8080/"
    },
    "executionInfo": {
     "elapsed": 244,
     "status": "ok",
     "timestamp": 1632192450461,
     "user": {
      "displayName": "Guilherme Beneti Martins",
      "photoUrl": "https://lh3.googleusercontent.com/a/default-user=s64",
      "userId": "01437916310506031441"
     },
     "user_tz": 180
    },
    "id": "MHFCwYLNLRYC",
    "outputId": "c2b26feb-7311-4d37-e20f-b4e17165b0ab"
   },
   "outputs": [
    {
     "name": "stdout",
     "output_type": "stream",
     "text": [
      "Class unknown\n"
     ]
    }
   ],
   "source": [
    "a = nn.Softmax(dim=0)\n",
    "k = a(result[5])\n",
    "print(class_names[k.argmax()])"
   ]
  }
 ],
 "metadata": {
  "accelerator": "GPU",
  "colab": {
   "collapsed_sections": [],
   "name": "mnist-train2.ipynb",
   "provenance": []
  },
  "kernelspec": {
   "display_name": "Python 3 (ipykernel)",
   "language": "python",
   "name": "python3"
  },
  "language_info": {
   "codemirror_mode": {
    "name": "ipython",
    "version": 3
   },
   "file_extension": ".py",
   "mimetype": "text/x-python",
   "name": "python",
   "nbconvert_exporter": "python",
   "pygments_lexer": "ipython3",
   "version": "3.9.6"
  }
 },
 "nbformat": 4,
 "nbformat_minor": 5
}
