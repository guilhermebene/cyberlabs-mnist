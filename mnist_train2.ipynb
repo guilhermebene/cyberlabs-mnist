{
  "nbformat": 4,
  "nbformat_minor": 5,
  "metadata": {
    "colab": {
      "name": "mnist-train3.ipynb",
      "provenance": [],
      "collapsed_sections": [],
      "include_colab_link": true
    },
    "kernelspec": {
      "display_name": "Python 3 (ipykernel)",
      "language": "python",
      "name": "python3"
    },
    "language_info": {
      "codemirror_mode": {
        "name": "ipython",
        "version": 3
      },
      "file_extension": ".py",
      "mimetype": "text/x-python",
      "name": "python",
      "nbconvert_exporter": "python",
      "pygments_lexer": "ipython3",
      "version": "3.9.6"
    },
    "accelerator": "GPU"
  },
  "cells": [
    {
      "cell_type": "markdown",
      "metadata": {
        "id": "view-in-github",
        "colab_type": "text"
      },
      "source": [
        "<a href=\"https://colab.research.google.com/github/guilhermebene/cyberlabs-mnist/blob/main/mnist_train2.ipynb\" target=\"_parent\"><img src=\"https://colab.research.google.com/assets/colab-badge.svg\" alt=\"Open In Colab\"/></a>"
      ]
    },
    {
      "cell_type": "markdown",
      "metadata": {
        "id": "QChcFJAcY6aH"
      },
      "source": [
        "# Initialization (run this part only if you are using Google Collaboratory)\n",
        "\n",
        "Otherwise, skip to the next section (Imports)."
      ],
      "id": "QChcFJAcY6aH"
    },
    {
      "cell_type": "code",
      "metadata": {
        "colab": {
          "base_uri": "https://localhost:8080/"
        },
        "id": "v7hSKfZw_358",
        "outputId": "f81308c2-3ffb-4514-f525-ad20f93cce1f"
      },
      "source": [
        "!pip3 install torch torchvision torchaudio\n",
        "!pip install matplotlib\n",
        "!pip install numpy"
      ],
      "id": "v7hSKfZw_358",
      "execution_count": 1,
      "outputs": [
        {
          "output_type": "stream",
          "name": "stdout",
          "text": [
            "Requirement already satisfied: torch in /usr/local/lib/python3.7/dist-packages (1.9.0+cu102)\n",
            "Requirement already satisfied: torchvision in /usr/local/lib/python3.7/dist-packages (0.10.0+cu102)\n",
            "Requirement already satisfied: torchaudio in /usr/local/lib/python3.7/dist-packages (0.9.0)\n",
            "Requirement already satisfied: typing-extensions in /usr/local/lib/python3.7/dist-packages (from torch) (3.7.4.3)\n",
            "Requirement already satisfied: pillow>=5.3.0 in /usr/local/lib/python3.7/dist-packages (from torchvision) (7.1.2)\n",
            "Requirement already satisfied: numpy in /usr/local/lib/python3.7/dist-packages (from torchvision) (1.19.5)\n",
            "Requirement already satisfied: matplotlib in /usr/local/lib/python3.7/dist-packages (3.2.2)\n",
            "Requirement already satisfied: python-dateutil>=2.1 in /usr/local/lib/python3.7/dist-packages (from matplotlib) (2.8.2)\n",
            "Requirement already satisfied: cycler>=0.10 in /usr/local/lib/python3.7/dist-packages (from matplotlib) (0.10.0)\n",
            "Requirement already satisfied: numpy>=1.11 in /usr/local/lib/python3.7/dist-packages (from matplotlib) (1.19.5)\n",
            "Requirement already satisfied: pyparsing!=2.0.4,!=2.1.2,!=2.1.6,>=2.0.1 in /usr/local/lib/python3.7/dist-packages (from matplotlib) (2.4.7)\n",
            "Requirement already satisfied: kiwisolver>=1.0.1 in /usr/local/lib/python3.7/dist-packages (from matplotlib) (1.3.2)\n",
            "Requirement already satisfied: six in /usr/local/lib/python3.7/dist-packages (from cycler>=0.10->matplotlib) (1.15.0)\n",
            "Requirement already satisfied: numpy in /usr/local/lib/python3.7/dist-packages (1.19.5)\n"
          ]
        }
      ]
    },
    {
      "cell_type": "code",
      "metadata": {
        "colab": {
          "base_uri": "https://localhost:8080/"
        },
        "id": "X-ridbaj_5e2",
        "outputId": "8b1fff63-7769-4a29-f8aa-e05948b24ea2"
      },
      "source": [
        "from google.colab import drive\n",
        "drive.mount('/content/gdrive/',force_remount=True)"
      ],
      "id": "X-ridbaj_5e2",
      "execution_count": 2,
      "outputs": [
        {
          "output_type": "stream",
          "name": "stdout",
          "text": [
            "Mounted at /content/gdrive/\n"
          ]
        }
      ]
    },
    {
      "cell_type": "code",
      "metadata": {
        "id": "rmluLVD__62e"
      },
      "source": [
        "import os\n",
        "os.chdir('/content/gdrive/MyDrive/cyberlabs-mnist')"
      ],
      "id": "rmluLVD__62e",
      "execution_count": 3,
      "outputs": []
    },
    {
      "cell_type": "markdown",
      "metadata": {
        "id": "eeGG7S8oeeTK"
      },
      "source": [
        "# Imports\n",
        "For this problem we will use PyTorch and torchvision as the main libraries, since they are the ones I have been using lately. Numpy is also necessary for some mathematical manipulations as well as matplotlib for plots and graphs."
      ],
      "id": "eeGG7S8oeeTK"
    },
    {
      "cell_type": "code",
      "metadata": {
        "id": "c16835a8-a93f-4585-a727-9afea9c606ed"
      },
      "source": [
        "import time\n",
        "import copy\n",
        "from pathlib import Path\n",
        "\n",
        "import numpy as np\n",
        "import torch\n",
        "import torch.nn as nn\n",
        "import torch.nn.functional as F\n",
        "import torch.optim as optim\n",
        "from torchvision import datasets, transforms, models\n",
        "from matplotlib import pyplot as plt"
      ],
      "id": "c16835a8-a93f-4585-a727-9afea9c606ed",
      "execution_count": 4,
      "outputs": []
    },
    {
      "cell_type": "code",
      "metadata": {
        "colab": {
          "base_uri": "https://localhost:8080/"
        },
        "id": "4674c1e5-3767-4c00-afce-b3c99da563bd",
        "outputId": "85531aa6-87d6-460c-c5ce-0b97e8864db2"
      },
      "source": [
        "device = torch.device(\"cuda:0\" if torch.cuda.is_available() else \"cpu\")\n",
        "print(f'Using device: {device}')\n",
        "torch.manual_seed(7)\n",
        "batch_size = 128"
      ],
      "id": "4674c1e5-3767-4c00-afce-b3c99da563bd",
      "execution_count": 5,
      "outputs": [
        {
          "output_type": "stream",
          "name": "stdout",
          "text": [
            "Using device: cuda:0\n"
          ]
        }
      ]
    },
    {
      "cell_type": "markdown",
      "metadata": {
        "id": "JiuT9s5FeFXw"
      },
      "source": [
        "# Data"
      ],
      "id": "JiuT9s5FeFXw"
    },
    {
      "cell_type": "markdown",
      "metadata": {
        "id": "1173a65c-28f3-4998-b631-cdad1de850ae"
      },
      "source": [
        "## Creating Datasets\n",
        "\n",
        "We will need to use some data augmention to get improve our results since the amount of actually useful images in MNIST is rather small due to my interpretation of the problem. This is better explained in the following cells."
      ],
      "id": "1173a65c-28f3-4998-b631-cdad1de850ae"
    },
    {
      "cell_type": "code",
      "metadata": {
        "id": "48c47f01-e785-4a7e-993b-00ee64cff95f"
      },
      "source": [
        "CNN_transform = transforms.Compose([\n",
        "                transforms.Resize(32),\n",
        "                transforms.ToTensor(),\n",
        "                transforms.Normalize((0.1307,), (0.3081,)), # Normalizing by the mean and std-dev of the entire dataset (as recommended by torchvision)\n",
        "                transforms.GaussianBlur((3,3)),\n",
        "                transforms.RandomAffine(degrees=10, translate=(0.2,0.2), scale=(0.8, 1.2))\n",
        "                ]) "
      ],
      "id": "48c47f01-e785-4a7e-993b-00ee64cff95f",
      "execution_count": 6,
      "outputs": []
    },
    {
      "cell_type": "code",
      "metadata": {
        "colab": {
          "base_uri": "https://localhost:8080/"
        },
        "id": "dd61b163-e775-46b6-922a-25117c2aaeec",
        "outputId": "20756d86-4699-41f1-f9c6-5ca7f16c217e"
      },
      "source": [
        "mnist_path = Path('./mnist')\n",
        "\n",
        "if not mnist_path.exists():\n",
        "    mnist_path.mkdir()\n",
        "\n",
        "mnist_trainset = datasets.MNIST(root=str(mnist_path.resolve()), train=True, download=True, transform=CNN_transform)\n",
        "mnist_testset = datasets.MNIST(root=str(mnist_path.resolve()), train=False, download=True, transform=CNN_transform)\n",
        "\n",
        "print(mnist_trainset)\n",
        "print(mnist_testset)"
      ],
      "id": "dd61b163-e775-46b6-922a-25117c2aaeec",
      "execution_count": 7,
      "outputs": [
        {
          "output_type": "stream",
          "name": "stdout",
          "text": [
            "Dataset MNIST\n",
            "    Number of datapoints: 60000\n",
            "    Root location: /content/gdrive/MyDrive/cyberlabs-mnist/mnist\n",
            "    Split: Train\n",
            "    StandardTransform\n",
            "Transform: Compose(\n",
            "               Resize(size=32, interpolation=bilinear, max_size=None, antialias=None)\n",
            "               ToTensor()\n",
            "               Normalize(mean=(0.1307,), std=(0.3081,))\n",
            "               GaussianBlur(kernel_size=(3, 3), sigma=(0.1, 2.0))\n",
            "               RandomAffine(degrees=[-10.0, 10.0], translate=(0.2, 0.2), scale=(0.8, 1.2))\n",
            "           )\n",
            "Dataset MNIST\n",
            "    Number of datapoints: 10000\n",
            "    Root location: /content/gdrive/MyDrive/cyberlabs-mnist/mnist\n",
            "    Split: Test\n",
            "    StandardTransform\n",
            "Transform: Compose(\n",
            "               Resize(size=32, interpolation=bilinear, max_size=None, antialias=None)\n",
            "               ToTensor()\n",
            "               Normalize(mean=(0.1307,), std=(0.3081,))\n",
            "               GaussianBlur(kernel_size=(3, 3), sigma=(0.1, 2.0))\n",
            "               RandomAffine(degrees=[-10.0, 10.0], translate=(0.2, 0.2), scale=(0.8, 1.2))\n",
            "           )\n"
          ]
        },
        {
          "output_type": "stream",
          "name": "stderr",
          "text": [
            "/usr/local/lib/python3.7/dist-packages/torchvision/datasets/mnist.py:498: UserWarning: The given NumPy array is not writeable, and PyTorch does not support non-writeable tensors. This means you can write to the underlying (supposedly non-writeable) NumPy array using the tensor. You may want to copy the array to protect its data or make it writeable before converting it to a tensor. This type of warning will be suppressed for the rest of this program. (Triggered internally at  /pytorch/torch/csrc/utils/tensor_numpy.cpp:180.)\n",
            "  return torch.from_numpy(parsed.astype(m[2], copy=False)).view(*s)\n"
          ]
        }
      ]
    },
    {
      "cell_type": "code",
      "metadata": {
        "colab": {
          "base_uri": "https://localhost:8080/"
        },
        "id": "kw-R4af7Rkwg",
        "outputId": "ddf4db43-59ba-4b16-e294-c510064f7806"
      },
      "source": [
        "mnist_trainset.data.float().mean()/255\n",
        "mnist_trainset.data.float().std()/255"
      ],
      "id": "kw-R4af7Rkwg",
      "execution_count": 8,
      "outputs": [
        {
          "output_type": "execute_result",
          "data": {
            "text/plain": [
              "tensor(0.3081)"
            ]
          },
          "metadata": {},
          "execution_count": 8
        }
      ]
    },
    {
      "cell_type": "code",
      "metadata": {
        "colab": {
          "base_uri": "https://localhost:8080/",
          "height": 284
        },
        "id": "j4QrhO_MMUy2",
        "outputId": "4e4ac0e2-900e-4178-afb7-9ff404edabd2"
      },
      "source": [
        "im,label = next(iter(mnist_trainset))\n",
        "plt.imshow(im.squeeze(),cmap='gray')\n",
        "plt.colorbar()"
      ],
      "id": "j4QrhO_MMUy2",
      "execution_count": 9,
      "outputs": [
        {
          "output_type": "execute_result",
          "data": {
            "text/plain": [
              "<matplotlib.colorbar.Colorbar at 0x7f33ba0fc850>"
            ]
          },
          "metadata": {},
          "execution_count": 9
        },
        {
          "output_type": "display_data",
          "data": {
            "image/png": "[encoded data removed]",
            "text/plain": [
              "<Figure size 432x288 with 2 Axes>"
            ]
          },
          "metadata": {
            "needs_background": "light"
          }
        }
      ]
    },
    {
      "cell_type": "markdown",
      "metadata": {
        "id": "JmdQMxjDb9MR"
      },
      "source": [
        "## Analyzing datasets"
      ],
      "id": "JmdQMxjDb9MR"
    },
    {
      "cell_type": "markdown",
      "metadata": {
        "id": "immt-MdgcC2a"
      },
      "source": [
        "In this case we are dealing with a classification problem. We can think of 3 different classes: digit 0, digit 5 and all the other digits. We start by calculating the amount of samples in each one of them in the train set."
      ],
      "id": "immt-MdgcC2a"
    },
    {
      "cell_type": "code",
      "metadata": {
        "id": "vd945vh-14Ps"
      },
      "source": [
        "freq_0 = torch.sum(mnist_trainset.targets == 0).cpu().detach().numpy()\n",
        "freq_5 = torch.sum(mnist_trainset.targets == 5).cpu().detach().numpy()\n",
        "freq_other = torch.sum(torch.logical_not(torch.logical_or(mnist_trainset.targets == 0, mnist_trainset.targets == 5))).cpu().detach().numpy()"
      ],
      "id": "vd945vh-14Ps",
      "execution_count": 10,
      "outputs": []
    },
    {
      "cell_type": "markdown",
      "metadata": {
        "id": "Ud7xmDYvciJ5"
      },
      "source": [
        "The next graph shows the frequencies for each class. As expected, there is too many examples in the \"other digits\" class, meaning the dataset is very imbalanced for our problem. Since the problem description is not very detailed, we can choose to train our solution to differentiate only between 0s and 5s, meaning by hypothesis every input will always be one of these two digits. In this case we can select only the necessary parts of the train and test sets.\n",
        "\n",
        "A different solution for this problem would be to selectively augment the samples in the unbalanced classes in order to artificially balance the classes.\n",
        "\n",
        "Moreover, it is important to note that even if we keep only os and 5s, the classes will still be umbalanced."
      ],
      "id": "Ud7xmDYvciJ5"
    },
    {
      "cell_type": "code",
      "metadata": {
        "colab": {
          "base_uri": "https://localhost:8080/",
          "height": 368
        },
        "id": "6wIRecp1ZwQ6",
        "outputId": "6e20fafc-6641-40f4-e336-887cc03ef9bf"
      },
      "source": [
        "plt.bar(np.array(['Digit 0','Digit 5','Other digits']),np.array([freq_0,freq_5,freq_other]))\n",
        "plt.xlabel('Class')\n",
        "plt.ylabel('Amount of samples')\n",
        "plt.title('Class frequencies in train set')\n",
        "\n",
        "print('Frequencies:')\n",
        "print(f'Digit 0: {freq_0/len(mnist_trainset)}')\n",
        "print(f'Digit 5: {freq_5/len(mnist_trainset)}')\n",
        "print(f'Other digits: {freq_other/len(mnist_trainset)}')"
      ],
      "id": "6wIRecp1ZwQ6",
      "execution_count": 11,
      "outputs": [
        {
          "output_type": "stream",
          "name": "stdout",
          "text": [
            "Frequencies:\n",
            "Digit 0: 0.09871666666666666\n",
            "Digit 5: 0.09035\n",
            "Other digits: 0.8109333333333333\n"
          ]
        },
        {
          "output_type": "display_data",
          "data": {
            "image/png": "[encoded data removed]",
            "text/plain": [
              "<Figure size 432x288 with 1 Axes>"
            ]
          },
          "metadata": {
            "needs_background": "light"
          }
        }
      ]
    },
    {
      "cell_type": "markdown",
      "metadata": {
        "id": "Ax--7uS6dPQ-"
      },
      "source": [
        "Here, we select the elements of the sets that are either 0 or 5, the resulting datasets are much smaller than initially. The total amount of data for train and test is rather small, which justifies the data augmention proposed in the dataset transform previously defined."
      ],
      "id": "Ax--7uS6dPQ-"
    },
    {
      "cell_type": "code",
      "metadata": {
        "colab": {
          "base_uri": "https://localhost:8080/"
        },
        "id": "21f693d7-2df2-4cb7-9fdb-01fb032d11f4",
        "outputId": "609db590-45f7-4ebf-8234-51b3f91d6f40"
      },
      "source": [
        "train_idx = torch.logical_or(mnist_trainset.targets == 0, mnist_trainset.targets == 5)\n",
        "mnist_trainset.data = mnist_trainset.data[train_idx]\n",
        "mnist_trainset.targets = mnist_trainset.targets[train_idx]\n",
        "\n",
        "test_idx = torch.logical_or(mnist_testset.targets == 0, mnist_testset.targets == 5)\n",
        "mnist_testset.data = mnist_testset.data[test_idx]\n",
        "mnist_testset.targets = mnist_testset.targets[test_idx]\n",
        "\n",
        "print(f'Trainset size: {len(mnist_trainset)}')\n",
        "print(f'Testset size: {len(mnist_testset)}')"
      ],
      "id": "21f693d7-2df2-4cb7-9fdb-01fb032d11f4",
      "execution_count": 12,
      "outputs": [
        {
          "output_type": "stream",
          "name": "stdout",
          "text": [
            "Trainset size: 11344\n",
            "Testset size: 1872\n"
          ]
        }
      ]
    },
    {
      "cell_type": "markdown",
      "metadata": {
        "id": "605fa3e6-3129-4839-b0d9-8c0ce4d8622f"
      },
      "source": [
        "## Defining the dataloaders"
      ],
      "id": "605fa3e6-3129-4839-b0d9-8c0ce4d8622f"
    },
    {
      "cell_type": "code",
      "metadata": {
        "id": "42a94556-691a-4c2a-8402-6cce21224150"
      },
      "source": [
        "def collate_mnist(batch):\n",
        "    modified_batch = []\n",
        "    for item in batch:\n",
        "        image, label = item\n",
        "        if label == 0:\n",
        "            label = 0\n",
        "        \n",
        "        if label == 5:\n",
        "            label = 1\n",
        "        \n",
        "        item = image, label\n",
        "        modified_batch.append(item)\n",
        "    \n",
        "    return torch.utils.data.dataloader.default_collate(modified_batch)\n",
        "\n",
        "trainloader = torch.utils.data.DataLoader(mnist_trainset, batch_size, shuffle=True, collate_fn=collate_mnist)\n",
        "testloader = torch.utils.data.DataLoader(mnist_testset, batch_size, shuffle=True, collate_fn=collate_mnist)\n",
        "\n",
        "class_names = ['Class 0', 'Class 5']\n",
        "dataloaders = {'train': trainloader, 'val': testloader}\n",
        "dataset_sizes = {'train':len(mnist_trainset), 'val':len(mnist_testset)}"
      ],
      "id": "42a94556-691a-4c2a-8402-6cce21224150",
      "execution_count": 13,
      "outputs": []
    },
    {
      "cell_type": "markdown",
      "metadata": {
        "id": "H7t85X0CV9w4"
      },
      "source": [
        "### Example of an image from MNIST"
      ],
      "id": "H7t85X0CV9w4"
    },
    {
      "cell_type": "code",
      "metadata": {
        "colab": {
          "base_uri": "https://localhost:8080/",
          "height": 284
        },
        "id": "NMcG96whNctU",
        "outputId": "b9353419-b84a-4f82-878c-f02b44a0c2eb"
      },
      "source": [
        "im,label = next(iter(trainloader))\n",
        "plt.imshow(im[0,0,:,:],cmap='gray')"
      ],
      "id": "NMcG96whNctU",
      "execution_count": 14,
      "outputs": [
        {
          "output_type": "execute_result",
          "data": {
            "text/plain": [
              "<matplotlib.image.AxesImage at 0x7f33b9b7d550>"
            ]
          },
          "metadata": {},
          "execution_count": 14
        },
        {
          "output_type": "display_data",
          "data": {
            "image/png": "[encoded data removed]",
            "text/plain": [
              "<Figure size 432x288 with 1 Axes>"
            ]
          },
          "metadata": {
            "needs_background": "light"
          }
        }
      ]
    },
    {
      "cell_type": "markdown",
      "metadata": {
        "id": "a1c1f31c-42a9-4225-ba70-08e0699f5614"
      },
      "source": [
        "# Initial Classification model\n",
        "\n",
        "The initial classification model used is rather simple. It is based on LeNet5, framwork developped by one of MNIST's creators.\n",
        "\n",
        "The main idea behind it is to use a Convolutional Neural Network to extract features from the images, also named a feature extractor, and then feed the features to a classifier composed of fully connected layers that will decide whether an image represents the digit 0 or 5. \n",
        "\n",
        "The deeper the convolutional layer is, the \"higher level\" details it sees. More information about each layer is informed in the code block below."
      ],
      "id": "a1c1f31c-42a9-4225-ba70-08e0699f5614"
    },
    {
      "cell_type": "code",
      "metadata": {
        "id": "ftUT_0JRmbgn"
      },
      "source": [
        "class mnistClassifier(nn.Module):\n",
        "\n",
        "  def __init__(self):\n",
        "        super(mnistClassifier, self).__init__()\n",
        "\n",
        "        self.conv1 = nn.Sequential(\n",
        "            nn.Conv2d(in_channels=1, out_channels=6, kernel_size=5, stride=1),  # 6 convolution filters of size 5x5                  \n",
        "            nn.ReLU(), # ReLU activation function    \n",
        "            nn.MaxPool2d(kernel_size=2),    \n",
        "        )\n",
        "\n",
        "        self.conv2 = nn.Sequential( \n",
        "            nn.Conv2d(in_channels=6, out_channels=16, kernel_size=5, stride=1), # 16 convolution filters of size 5x5    \n",
        "            nn.ReLU(), # ReLU activation function              \n",
        "            nn.MaxPool2d(kernel_size=2),                \n",
        "        )\n",
        "        self.conv3 = nn.Sequential( \n",
        "            nn.Conv2d(in_channels=16, out_channels=120, kernel_size=5, stride=1), # 120 convolution filters of size 5x5\n",
        "            nn.ReLU(), # ReLU activation function             \n",
        "        )\n",
        "\n",
        "        self.classifier = nn.Sequential(\n",
        "            #  nn.Linear(in_features=120, out_features=84),\n",
        "            #  nn.ReLU(), # ReLU activation function \n",
        "            #  nn.Linear(in_features=84, out_features=2),\n",
        "            nn.Linear(in_features=120, out_features=2),  # Fully connected layer mapping all flattened features from the output of conv3 to 2 output classes. \n",
        "        )                                                # We could have used a single output class as well.\n",
        "\n",
        "  def forward(self, x):\n",
        "      x = self.conv1(x)\n",
        "      x = self.conv2(x)\n",
        "      x = self.conv3(x)\n",
        "      x = torch.flatten(x, 1)\n",
        "      x = self.classifier(x)\n",
        "      x = F.softmax(x)\n",
        "      return x"
      ],
      "id": "ftUT_0JRmbgn",
      "execution_count": 15,
      "outputs": []
    },
    {
      "cell_type": "code",
      "metadata": {
        "id": "-N5DcEIYUEDU"
      },
      "source": [
        "model = mnistClassifier().to(device)"
      ],
      "id": "-N5DcEIYUEDU",
      "execution_count": 16,
      "outputs": []
    },
    {
      "cell_type": "markdown",
      "metadata": {
        "id": "-nP6z-01gWeX"
      },
      "source": [
        "## Defining train parameters"
      ],
      "id": "-nP6z-01gWeX"
    },
    {
      "cell_type": "code",
      "metadata": {
        "id": "QqpnyGUNgQV8"
      },
      "source": [
        "epochs = 20\n",
        "learning_rate = 1e-3\n",
        "reg = 1e-7\n",
        "step_size = 10\n",
        "gamma = 0.2\n",
        "\n",
        "optimizer = torch.optim.Adam(model.parameters(), lr=learning_rate)\n",
        "criterion = nn.CrossEntropyLoss()\n",
        "scheduler = torch.optim.lr_scheduler.StepLR(optimizer, step_size=step_size, gamma=gamma)"
      ],
      "id": "QqpnyGUNgQV8",
      "execution_count": 17,
      "outputs": []
    },
    {
      "cell_type": "markdown",
      "metadata": {
        "id": "nhG6bUWDg3Wo"
      },
      "source": [
        "## Defining useful functions for training"
      ],
      "id": "nhG6bUWDg3Wo"
    },
    {
      "cell_type": "code",
      "metadata": {
        "id": "mNSRBKJ3Jx_L"
      },
      "source": [
        "def checkpoint(root, epoch, model):\n",
        "    \"\"\" Saves the dictionaries of a given pytorch model for \n",
        "        the right epoch\n",
        "        \"\"\"\n",
        "    model_out_path = \"model_epoch_{}.pth\".format(epoch)\n",
        "    model_out_path = root / model_out_path;\n",
        "    torch.save(model.state_dict() , model_out_path);\n",
        "    print(\"Checkpoint saved to {}\".format(model_out_path))\n",
        "\n",
        "def train_model(ckeckpoint_path, device, model, criterion, optimizer, scheduler, dataloaders, dataset_sizes, num_epochs=20):\n",
        "    since = time.time()\n",
        "\n",
        "    best_model_wts = copy.deepcopy(model.state_dict())\n",
        "    best_acc = 0.0\n",
        "\n",
        "    val_acc = []\n",
        "    train_acc = []\n",
        "\n",
        "    for epoch in range(num_epochs):\n",
        "        print('Epoch {}/{}'.format(epoch, num_epochs - 1))\n",
        "        print('-' * 10)\n",
        "\n",
        "        # Each epoch has a training and validation phase\n",
        "        for phase in ['train', 'val']:\n",
        "            if phase == 'train':\n",
        "                model.train()  # Set model to training mode\n",
        "            else:\n",
        "                model.eval()   # Set model to evaluate mode\n",
        "\n",
        "            running_loss = 0.0\n",
        "            running_corrects = 0\n",
        "\n",
        "            # Iterate over data.\n",
        "            for inputs, labels in dataloaders[phase]:\n",
        "                inputs = inputs.to(device)\n",
        "                labels = labels.to(device)\n",
        "\n",
        "                optimizer.zero_grad()\n",
        "\n",
        "                with torch.set_grad_enabled(phase == 'train'):\n",
        "                    outputs = model(inputs)\n",
        "                    _, preds = torch.max(outputs, 1)\n",
        "                    loss = criterion(outputs, labels)\n",
        "\n",
        "                    if phase == 'train':\n",
        "                        loss.backward()\n",
        "                        optimizer.step()\n",
        "\n",
        "                # statistics\n",
        "                running_loss += loss.item() * inputs.size(0)\n",
        "                running_corrects += torch.sum(preds == labels.data)\n",
        "\n",
        "            epoch_loss = running_loss / dataset_sizes[phase]\n",
        "            epoch_acc = running_corrects.double() / dataset_sizes[phase]\n",
        "\n",
        "            if phase == 'train':\n",
        "                scheduler.step()\n",
        "                train_acc.append(epoch_acc)\n",
        "\n",
        "            if phase == 'val':\n",
        "                val_acc.append(epoch_acc)\n",
        "\n",
        "            print('{} Loss: {:.4f} Acc: {:.4f}'.format(\n",
        "                phase, epoch_loss, epoch_acc))\n",
        "\n",
        "            # deep copy the model\n",
        "            if phase == 'val' and epoch_acc > best_acc:\n",
        "                best_acc = epoch_acc\n",
        "                best_model_wts = copy.deepcopy(model.state_dict())\n",
        "\n",
        "        ckeckpoint_path = Path(ckeckpoint_path)\n",
        "\n",
        "        if not ckeckpoint_path.exists():\n",
        "          ckeckpoint_path.mkdir()\n",
        "\n",
        "        checkpoint(ckeckpoint_path, epoch, model)\n",
        "        print()\n",
        "\n",
        "    time_elapsed = time.time() - since\n",
        "    print('Training complete in {:.0f}m {:.0f}s'.format(\n",
        "        time_elapsed // 60, time_elapsed % 60))\n",
        "    print('Best val Acc: {:4f}'.format(best_acc))\n",
        "\n",
        "    plt.plot(np.arange(0,num_epochs), train_acc, label='Train accuracy')\n",
        "    plt.plot(np.arange(0,num_epochs), val_acc, label='Test accuracy')\n",
        "    plt.legend()\n",
        "    plt.xlabel('Epoch')\n",
        "    plt.ylabel('Accuracy')\n",
        "\n",
        "    # load best model weights\n",
        "    model.load_state_dict(best_model_wts)\n",
        "    return model"
      ],
      "id": "mNSRBKJ3Jx_L",
      "execution_count": 18,
      "outputs": []
    },
    {
      "cell_type": "markdown",
      "metadata": {
        "id": "f9f9pbf1hGq8"
      },
      "source": [
        "## Training the model"
      ],
      "id": "f9f9pbf1hGq8"
    },
    {
      "cell_type": "code",
      "metadata": {
        "colab": {
          "base_uri": "https://localhost:8080/",
          "height": 1000
        },
        "id": "lNuSIRnoLwpP",
        "outputId": "73d707a6-7b1f-4cb9-88a3-69bf5d84c221"
      },
      "source": [
        "trained_model = train_model(\"./checkpoints3/\", device, model, criterion, optimizer, scheduler, dataloaders, dataset_sizes, num_epochs=20)"
      ],
      "id": "lNuSIRnoLwpP",
      "execution_count": 19,
      "outputs": [
        {
          "output_type": "stream",
          "name": "stdout",
          "text": [
            "Epoch 0/19\n",
            "----------\n"
          ]
        },
        {
          "output_type": "stream",
          "name": "stderr",
          "text": [
            "/usr/local/lib/python3.7/dist-packages/torch/nn/functional.py:718: UserWarning: Named tensors and all their associated APIs are an experimental feature and subject to change. Please do not use them for anything important until they are released as stable. (Triggered internally at  /pytorch/c10/core/TensorImpl.h:1156.)\n",
            "  return torch.max_pool2d(input, kernel_size, stride, padding, dilation, ceil_mode)\n",
            "/usr/local/lib/python3.7/dist-packages/ipykernel_launcher.py:35: UserWarning: Implicit dimension choice for softmax has been deprecated. Change the call to include dim=X as an argument.\n"
          ]
        },
        {
          "output_type": "stream",
          "name": "stdout",
          "text": [
            "train Loss: 0.4308 Acc: 0.8837\n",
            "val Loss: 0.3431 Acc: 0.9712\n",
            "Checkpoint saved to checkpoints3/model_epoch_0.pth\n",
            "\n",
            "Epoch 1/19\n",
            "----------\n",
            "train Loss: 0.3395 Acc: 0.9751\n",
            "val Loss: 0.3447 Acc: 0.9696\n",
            "Checkpoint saved to checkpoints3/model_epoch_1.pth\n",
            "\n",
            "Epoch 2/19\n",
            "----------\n",
            "train Loss: 0.3342 Acc: 0.9797\n",
            "val Loss: 0.3276 Acc: 0.9872\n",
            "Checkpoint saved to checkpoints3/model_epoch_2.pth\n",
            "\n",
            "Epoch 3/19\n",
            "----------\n",
            "train Loss: 0.3283 Acc: 0.9859\n",
            "val Loss: 0.3338 Acc: 0.9792\n",
            "Checkpoint saved to checkpoints3/model_epoch_3.pth\n",
            "\n",
            "Epoch 4/19\n",
            "----------\n",
            "train Loss: 0.3272 Acc: 0.9858\n",
            "val Loss: 0.3252 Acc: 0.9877\n",
            "Checkpoint saved to checkpoints3/model_epoch_4.pth\n",
            "\n",
            "Epoch 5/19\n",
            "----------\n",
            "train Loss: 0.3233 Acc: 0.9907\n",
            "val Loss: 0.3219 Acc: 0.9920\n",
            "Checkpoint saved to checkpoints3/model_epoch_5.pth\n",
            "\n",
            "Epoch 6/19\n",
            "----------\n",
            "train Loss: 0.3227 Acc: 0.9913\n",
            "val Loss: 0.3204 Acc: 0.9952\n",
            "Checkpoint saved to checkpoints3/model_epoch_6.pth\n",
            "\n",
            "Epoch 7/19\n",
            "----------\n",
            "train Loss: 0.3212 Acc: 0.9925\n",
            "val Loss: 0.3188 Acc: 0.9952\n",
            "Checkpoint saved to checkpoints3/model_epoch_7.pth\n",
            "\n",
            "Epoch 8/19\n",
            "----------\n",
            "train Loss: 0.3194 Acc: 0.9946\n",
            "val Loss: 0.3207 Acc: 0.9925\n",
            "Checkpoint saved to checkpoints3/model_epoch_8.pth\n",
            "\n",
            "Epoch 9/19\n",
            "----------\n",
            "train Loss: 0.3200 Acc: 0.9937\n",
            "val Loss: 0.3194 Acc: 0.9941\n",
            "Checkpoint saved to checkpoints3/model_epoch_9.pth\n",
            "\n",
            "Epoch 10/19\n",
            "----------\n",
            "train Loss: 0.3186 Acc: 0.9952\n",
            "val Loss: 0.3196 Acc: 0.9931\n",
            "Checkpoint saved to checkpoints3/model_epoch_10.pth\n",
            "\n",
            "Epoch 11/19\n",
            "----------\n",
            "train Loss: 0.3184 Acc: 0.9949\n",
            "val Loss: 0.3180 Acc: 0.9952\n",
            "Checkpoint saved to checkpoints3/model_epoch_11.pth\n",
            "\n",
            "Epoch 12/19\n",
            "----------\n",
            "train Loss: 0.3182 Acc: 0.9953\n",
            "val Loss: 0.3170 Acc: 0.9957\n",
            "Checkpoint saved to checkpoints3/model_epoch_12.pth\n",
            "\n",
            "Epoch 13/19\n",
            "----------\n",
            "train Loss: 0.3179 Acc: 0.9955\n",
            "val Loss: 0.3176 Acc: 0.9963\n",
            "Checkpoint saved to checkpoints3/model_epoch_13.pth\n",
            "\n",
            "Epoch 14/19\n",
            "----------\n",
            "train Loss: 0.3186 Acc: 0.9945\n",
            "val Loss: 0.3175 Acc: 0.9963\n",
            "Checkpoint saved to checkpoints3/model_epoch_14.pth\n",
            "\n",
            "Epoch 15/19\n",
            "----------\n",
            "train Loss: 0.3184 Acc: 0.9953\n",
            "val Loss: 0.3194 Acc: 0.9936\n",
            "Checkpoint saved to checkpoints3/model_epoch_15.pth\n",
            "\n",
            "Epoch 16/19\n",
            "----------\n",
            "train Loss: 0.3176 Acc: 0.9959\n",
            "val Loss: 0.3179 Acc: 0.9947\n",
            "Checkpoint saved to checkpoints3/model_epoch_16.pth\n",
            "\n",
            "Epoch 17/19\n",
            "----------\n",
            "train Loss: 0.3180 Acc: 0.9952\n",
            "val Loss: 0.3179 Acc: 0.9963\n",
            "Checkpoint saved to checkpoints3/model_epoch_17.pth\n",
            "\n",
            "Epoch 18/19\n",
            "----------\n",
            "train Loss: 0.3175 Acc: 0.9961\n",
            "val Loss: 0.3176 Acc: 0.9952\n",
            "Checkpoint saved to checkpoints3/model_epoch_18.pth\n",
            "\n",
            "Epoch 19/19\n",
            "----------\n",
            "train Loss: 0.3172 Acc: 0.9966\n",
            "val Loss: 0.3188 Acc: 0.9936\n",
            "Checkpoint saved to checkpoints3/model_epoch_19.pth\n",
            "\n",
            "Training complete in 4m 45s\n",
            "Best val Acc: 0.996261\n"
          ]
        },
        {
          "output_type": "display_data",
          "data": {
            "image/png": "[encoded data removed]",
            "text/plain": [
              "<Figure size 432x288 with 1 Axes>"
            ]
          },
          "metadata": {
            "needs_background": "light"
          }
        }
      ]
    },
    {
      "cell_type": "markdown",
      "metadata": {
        "id": "jWS4mSqXYfxU"
      },
      "source": [
        "From the training we can see that we achieve a validation accuracy of around 0.996, which is quite good for this simple model. In fact the accuracy seems to stabilize after only 10 epochs."
      ],
      "id": "jWS4mSqXYfxU"
    },
    {
      "cell_type": "markdown",
      "metadata": {
        "id": "77Kx8QD1YYF_"
      },
      "source": [
        "## Visualizing a few results"
      ],
      "id": "77Kx8QD1YYF_"
    },
    {
      "cell_type": "code",
      "metadata": {
        "id": "yO4pC_1KUbcx"
      },
      "source": [
        "def visualize_model(model, dataloaders, class_names, device, num_images=6):\n",
        "    was_training = model.training\n",
        "    model.eval()\n",
        "    images_so_far = 0\n",
        "    fig = plt.figure()\n",
        "\n",
        "    with torch.no_grad():\n",
        "        inputs,labels = next(iter(dataloaders['val']))\n",
        "        inputs = inputs.to(device)\n",
        "        labels = labels.to(device)\n",
        "        outputs = model(inputs)\n",
        "        _, preds = torch.max(outputs, 1)\n",
        "        for j in range(inputs.size()[0]):\n",
        "          images_so_far += 1\n",
        "          ax = plt.subplot(num_images//2, 2, images_so_far)\n",
        "          ax.axis('off')\n",
        "          ax.set_title('predicted: {}'.format(class_names[preds[j]]))\n",
        "          plt.imshow(inputs.cpu().data[j,0,:,:], cmap='gray')\n",
        "\n",
        "          if images_so_far == num_images:\n",
        "            break"
      ],
      "id": "yO4pC_1KUbcx",
      "execution_count": 20,
      "outputs": []
    },
    {
      "cell_type": "markdown",
      "metadata": {
        "id": "GQdWoEkZjUoF"
      },
      "source": [
        "## Digits and their classifications"
      ],
      "id": "GQdWoEkZjUoF"
    },
    {
      "cell_type": "code",
      "metadata": {
        "colab": {
          "base_uri": "https://localhost:8080/",
          "height": 302
        },
        "id": "MtUXmDOLTqzm",
        "outputId": "43b67f3b-5c7f-439b-b7e3-3949709237ea"
      },
      "source": [
        "visualize_model(trained_model, dataloaders, class_names, device, 8)"
      ],
      "id": "MtUXmDOLTqzm",
      "execution_count": 21,
      "outputs": [
        {
          "output_type": "stream",
          "name": "stderr",
          "text": [
            "/usr/local/lib/python3.7/dist-packages/ipykernel_launcher.py:35: UserWarning: Implicit dimension choice for softmax has been deprecated. Change the call to include dim=X as an argument.\n"
          ]
        },
        {
          "output_type": "display_data",
          "data": {
            "image/png": "[encoded data removed]",
            "text/plain": [
              "<Figure size 432x288 with 8 Axes>"
            ]
          },
          "metadata": {
            "needs_background": "light"
          }
        }
      ]
    },
    {
      "cell_type": "markdown",
      "metadata": {
        "id": "wFbNsx1ljafl"
      },
      "source": [
        "Now, considering the digit 0 as the negative class and the digit 5 as the positive class, we obtain the following confusion matrix, showing a very similar small amount of false positives and false negatives. It is worth noting that the classes are umbalanced."
      ],
      "id": "wFbNsx1ljafl"
    },
    {
      "cell_type": "code",
      "metadata": {
        "colab": {
          "base_uri": "https://localhost:8080/"
        },
        "id": "-i1DZ4PWT0Pj",
        "outputId": "db2869c2-b768-4e9c-ccb3-ca9ce994608f"
      },
      "source": [
        "with torch.no_grad():\n",
        "    FN = 0\n",
        "    FP = 0\n",
        "    TP = 0\n",
        "    TN = 0\n",
        "\n",
        "    for inputs, labels in dataloaders['val']:\n",
        "      # inputs,labels = next(iter(dataloaders['val']))\n",
        "      inputs = inputs.to(device)\n",
        "      labels = labels.to(device)\n",
        "      outputs = trained_model(inputs)\n",
        "      _, preds = torch.max(outputs, 1)\n",
        "\n",
        "      for index,label in enumerate(labels):\n",
        "        if label == 0:\n",
        "          if preds[index] == label:\n",
        "            TN += 1\n",
        "          else:\n",
        "            FN += 1\n",
        "            # print(f'Pred: {preds[i]}, label: {label}')\n",
        "        else:\n",
        "          if preds[index] == label:\n",
        "            TP += 1\n",
        "          else:\n",
        "            FP += 1\n",
        "\n",
        "print(f'FP:{FP}, FN: {FN}, TP: {TP}, TN: {TN}')"
      ],
      "id": "-i1DZ4PWT0Pj",
      "execution_count": 22,
      "outputs": [
        {
          "output_type": "stream",
          "name": "stderr",
          "text": [
            "/usr/local/lib/python3.7/dist-packages/ipykernel_launcher.py:35: UserWarning: Implicit dimension choice for softmax has been deprecated. Change the call to include dim=X as an argument.\n"
          ]
        },
        {
          "output_type": "stream",
          "name": "stdout",
          "text": [
            "FP:7, FN: 1, TP: 885, TN: 979\n"
          ]
        }
      ]
    },
    {
      "cell_type": "code",
      "metadata": {
        "colab": {
          "base_uri": "https://localhost:8080/"
        },
        "id": "C4CwkUEycGJh",
        "outputId": "cbcaae79-0350-4127-c1f8-976780bb4143"
      },
      "source": [
        "acc = TP/(TP+FP)\n",
        "prec = (TP + TN)/(TP+FP+TN+FN)\n",
        "recall = TP/(TP+FN)\n",
        "f1_score = (2*recall*prec)/(recall+prec)\n",
        "\n",
        "print(f'Accuracy: {acc}, Precision: {prec}, Recall rate: {recall}, F1-Score: {f1_score}')"
      ],
      "id": "C4CwkUEycGJh",
      "execution_count": 23,
      "outputs": [
        {
          "output_type": "stream",
          "name": "stdout",
          "text": [
            "Accuracy: 0.992152466367713, Precision: 0.9957264957264957, Recall rate: 0.9988713318284425, F1-Score: 0.9972964345824225\n"
          ]
        }
      ]
    },
    {
      "cell_type": "markdown",
      "metadata": {
        "id": "pKr_sFRZZvWW"
      },
      "source": [
        "# Conclusion\n",
        "\n",
        "The classifier seems well adapted to evaluate handwritten digits from the MNIST database. However, a better evaluation could be performed with more data augmention since the evaluation samples are not many, even a K-Fold cross-validation could be considered.\n",
        "Moreover, the results could be tested with other databases that extend MNIST such as EMNIST or QMNIST, or could be even tested with pictures taken from an user`s handwritting.\n",
        "For achieving an even greater precision, it would be possible to use deeper networks, specially in the classifier that is composed of a single FCL. More complex model could also be used by Transfer Learning, which is one of the most employed methods nowadays and that has shown very positive results lately as reported by the original creators of the MNIST database. "
      ],
      "id": "pKr_sFRZZvWW"
    }
  ]
}